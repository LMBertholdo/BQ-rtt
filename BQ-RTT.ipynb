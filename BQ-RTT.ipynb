{
 "cells": [
  {
   "cell_type": "markdown",
   "metadata": {},
   "source": [
    "# Measuring Catchment-RTT by ASN variation by Day in Brazil Node\n",
    "\n"
   ]
  },
  {
   "cell_type": "markdown",
   "metadata": {},
   "source": [
    "### Starting Google BigQuery\n"
   ]
  },
  {
   "cell_type": "code",
   "execution_count": null,
   "metadata": {},
   "outputs": [],
   "source": [
    "#Acess Database on BQ\n",
    "from google.cloud import bigquery\n",
    "\n",
    "# https://cloud.google.com/resource-manager/docs/creating-managing-projects\n",
    "project_id = 'vp-measurements-testbed'\n",
    "client = bigquery.Client(project=project_id)\n",
    "\n",
    "#for dataset in client.list_datasets():\n",
    "#  print(dataset.dataset_id)"
   ]
  },
  {
   "cell_type": "code",
   "execution_count": null,
   "metadata": {},
   "outputs": [],
   "source": [
    "# Pandas: display dataframes as interactive tables\n",
    "#%load_ext google.colab.data_table\n",
    "#%unload_ext google.colab.data_table"
   ]
  },
  {
   "cell_type": "markdown",
   "metadata": {},
   "source": [
    "### First look at data: (timestamp, catchment=brazil, asn, src_net, origin, bgp, id, rtt)"
   ]
  },
  {
   "cell_type": "code",
   "execution_count": null,
   "metadata": {},
   "outputs": [],
   "source": [
    "%%bigquery --project vp-measurements-testbed df\n",
    "SELECT\n",
    "  timestamp,\n",
    "  catchment,\n",
    "  asn,\n",
    "  src_net,\n",
    "  origin,\n",
    "  bgp,\n",
    "  id,\n",
    "  rtt\n",
    "FROM\n",
    "  `vp-measurements-testbed.datasetTestbed.measurements`\n",
    "WHERE\n",
    "  #catchment IN ('jp-hnd-anycast01')\n",
    "  catchment IN ('br-gru-anycast01')\n",
    "  #GROUP BY\n",
    "  # catchment,\n",
    "\n",
    "ORDER BY\n",
    "  timestamp ASC\n",
    "\n",
    "LIMIT\n",
    " 1000;"
   ]
  },
  {
   "cell_type": "code",
   "execution_count": null,
   "metadata": {},
   "outputs": [],
   "source": [
    "df"
   ]
  },
  {
   "cell_type": "markdown",
   "metadata": {},
   "source": [
    "### Consider just ONE DAY,  same ORIGIN, same CATCHMENT (timestamp=\"2019-07-24\", cachment=Brazil and origin-Brazil)\n"
   ]
  },
  {
   "cell_type": "code",
   "execution_count": null,
   "metadata": {},
   "outputs": [],
   "source": [
    "%%bigquery --project vp-measurements-testbed df\n",
    "SELECT\n",
    "  timestamp,\n",
    "  catchment,\n",
    "  asn,\n",
    "  src_net,\n",
    "  origin,\n",
    "  bgp,\n",
    "  id,\n",
    "  rtt\n",
    "FROM\n",
    "  `vp-measurements-testbed.datasetTestbed.measurements`\n",
    "WHERE\n",
    "  catchment IN ('br-gru-anycast01') \n",
    "  AND ( DATE (timestamp) ='2019-07-24' )\n",
    "\n",
    "#GROUP BY\n",
    "# catchment,\n",
    "\n",
    "ORDER BY\n",
    "  timestamp ASC\n",
    "\n",
    "LIMIT\n",
    " 1000;\n"
   ]
  },
  {
   "cell_type": "code",
   "execution_count": null,
   "metadata": {},
   "outputs": [],
   "source": [
    "%load_ext google.colab.data_table"
   ]
  },
  {
   "cell_type": "markdown",
   "metadata": {},
   "source": [
    "### Graphs\n"
   ]
  },
  {
   "cell_type": "code",
   "execution_count": null,
   "metadata": {},
   "outputs": [],
   "source": [
    "import altair as alt\n",
    "alt.Chart(df).mark_line().encode(\n",
    "  x='t0_timestamp',\n",
    "  y='t0_qt',\n",
    "  color='catchment'\n",
    ").interactive(bind_y=True)"
   ]
  },
  {
   "cell_type": "code",
   "execution_count": null,
   "metadata": {},
   "outputs": [],
   "source": [
    "%%bigquery --project vp-measurements-testbed df\n",
    "SELECT\n",
    "  timestamp as t0\n",
    "  FORMAT_TIMESTAMP('%Y%m%d', timestamp) AS t0_date,\n",
    "  FORMAT_TIMESTAMP('%H', timestamp) AS t0_hour,\n",
    "  FORMAT_TIMESTAMP('%H', timestamp) AS t0_min,\n",
    "  catchment,\n",
    "  COUNT(*) AS t0_qt\n",
    "FROM\n",
    "  `vp-measurements-testbed.datasetTestbed.measurements`\n",
    "WHERE\n",
    "  catchment IN ('jp-hnd-anycast01')\n",
    "GROUP BY\n",
    "  t0,\n",
    "  t0_date,\n",
    "  t0_hour,\n",
    "  t0_min,\n",
    "  catchment\n",
    "ORDER BY\n",
    " t0_date,t0_hour,t0_min ASC\n",
    "LIMIT 100"
   ]
  },
  {
   "cell_type": "code",
   "execution_count": null,
   "metadata": {},
   "outputs": [],
   "source": []
  }
 ],
 "metadata": {
  "kernelspec": {
   "display_name": "Python 3",
   "language": "python",
   "name": "python3"
  },
  "language_info": {
   "codemirror_mode": {
    "name": "ipython",
    "version": 3
   },
   "file_extension": ".py",
   "mimetype": "text/x-python",
   "name": "python",
   "nbconvert_exporter": "python",
   "pygments_lexer": "ipython3",
   "version": "3.8.5"
  }
 },
 "nbformat": 4,
 "nbformat_minor": 4
}
