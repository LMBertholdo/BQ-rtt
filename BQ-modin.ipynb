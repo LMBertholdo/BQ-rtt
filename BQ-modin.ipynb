{
 "cells": [
  {
   "cell_type": "markdown",
   "metadata": {
    "colab_type": "text",
    "id": "5GVGMwmyZaAw"
   },
   "source": [
    "# Measuring Catchment-RTT by ASN variation by Day in Brazil Node\n",
    "\n"
   ]
  },
  {
   "cell_type": "code",
   "execution_count": null,
   "metadata": {
    "hiddenCell": true
   },
   "outputs": [],
   "source": [
    "#Installing Software\n",
    "#!pip install --upgrade google-cloud-bigquery[bqstorage,pandas,pandas-gbq,ipython,pyarrow]\n",
    "#!pip install modin"
   ]
  },
  {
   "cell_type": "markdown",
   "metadata": {
    "colab_type": "text",
    "id": "LXL7cqN_zy26"
   },
   "source": [
    "### Loading Libraries (BQ, Datalab)\n"
   ]
  },
  {
   "cell_type": "code",
   "execution_count": null,
   "metadata": {
    "codeCollapsed": false,
    "colab": {},
    "colab_type": "code",
    "hiddenCell": true,
    "id": "sfGUsSl7IpEU"
   },
   "outputs": [],
   "source": [
    "# Checking current project on Google Cloud \n",
    "from google.datalab import Context\n",
    "\n",
    "context = Context.default()\n",
    "print('The current project is %s' % context.project_id)"
   ]
  },
  {
   "cell_type": "code",
   "execution_count": null,
   "metadata": {},
   "outputs": [],
   "source": [
    "# Use IPython Magics for better performance\n",
    "%load_ext google.datalab.kernel\n",
    "%load_ext google.cloud.bigquery"
   ]
  },
  {
   "cell_type": "code",
   "execution_count": null,
   "metadata": {},
   "outputs": [],
   "source": []
  },
  {
   "cell_type": "code",
   "execution_count": null,
   "metadata": {
    "colab": {},
    "colab_type": "code",
    "hiddenCell": true,
    "id": "wiiySkBLKykT"
   },
   "outputs": [],
   "source": [
    "#Acess Database on BQ\n",
    "#from google.cloud import bigquery\n",
    "# https://cloud.google.com/resource-manager/docs/creating-managing-projects\n",
    "#project_id = 'vp-measurements-testbed'\n",
    "#client = bigquery.Client(project=project_id)\n",
    "#\n",
    "#for dataset in client.list_datasets():\n",
    "#  print(dataset.dataset_id)"
   ]
  },
  {
   "cell_type": "markdown",
   "metadata": {},
   "source": [
    "### Testing BQ with a direct result without dataframe"
   ]
  },
  {
   "cell_type": "code",
   "execution_count": null,
   "metadata": {},
   "outputs": [],
   "source": [
    "%%bq query\n",
    "SELECT\n",
    "  COUNT (*) as TOTAL\n",
    "FROM \n",
    "  `vp-measurements-testbed.datasetTestbed.measurements`"
   ]
  },
  {
   "cell_type": "code",
   "execution_count": null,
   "metadata": {},
   "outputs": [],
   "source": [
    "\n"
   ]
  },
  {
   "cell_type": "code",
   "execution_count": null,
   "metadata": {},
   "outputs": [],
   "source": [
    "from pandas_gbq import read_gbq\n"
   ]
  },
  {
   "cell_type": "code",
   "execution_count": null,
   "metadata": {},
   "outputs": [],
   "source": [
    "projectid = 'vp-measurements-testbed'\n",
    "queryid = \"\"\"\n",
    "select \n",
    "  count (*) as TOTAL \n",
    "from \n",
    "  `vp-measurements-testbed.datasetTestbed.measurements`\n",
    "\"\"\"\n"
   ]
  },
  {
   "cell_type": "code",
   "execution_count": null,
   "metadata": {},
   "outputs": [],
   "source": [
    "\n",
    "read_gbq(query=queryid, project_id=projectid, dialect='standard', verbose=True)"
   ]
  },
  {
   "cell_type": "code",
   "execution_count": null,
   "metadata": {},
   "outputs": [],
   "source": [
    "QUERY = \"\"\"\n",
    "SELECT\n",
    "  timestamp,\n",
    "  catchment,\n",
    "  asn,\n",
    "  src_net,\n",
    "  origin,\n",
    "  bgp,\n",
    "  id,\n",
    "  rtt\n",
    "FROM\n",
    "  `vp-measurements-testbed.datasetTestbed.measurements`\n",
    "WHERE\n",
    "  catchment IN ('br-gru-anycast01')\n",
    "ORDER BY\n",
    "  timestamp ASC\n",
    "LIMIT\n",
    " 1000\n",
    " \"\"\""
   ]
  },
  {
   "cell_type": "code",
   "execution_count": null,
   "metadata": {},
   "outputs": [],
   "source": [
    "!date"
   ]
  },
  {
   "cell_type": "code",
   "execution_count": null,
   "metadata": {},
   "outputs": [],
   "source": [
    "read_gbq(query=QUERY, project_id=projectid, dialect='standard', verbose=True)"
   ]
  },
  {
   "cell_type": "code",
   "execution_count": null,
   "metadata": {},
   "outputs": [],
   "source": []
  },
  {
   "cell_type": "code",
   "execution_count": null,
   "metadata": {},
   "outputs": [],
   "source": []
  },
  {
   "cell_type": "markdown",
   "metadata": {},
   "source": [
    "## Performance text with MODIN"
   ]
  },
  {
   "cell_type": "code",
   "execution_count": null,
   "metadata": {},
   "outputs": [],
   "source": [
    "\n",
    "sql = \"\"\"\n",
    "  SELECT\n",
    "    timestamp,\n",
    "    catchment,\n",
    "    asn,\n",
    "    src_net,\n",
    "    origin,\n",
    "    bgp,\n",
    "    id,\n",
    "    rtt\n",
    "  FROM\n",
    "    `vp-measurements-testbed.datasetTestbed.measurements`\n",
    "  WHERE\n",
    "    catchment IN ('br-gru-anycast01')\n",
    "  ORDER BY\n",
    "    timestamp ASC\n",
    "  LIMIT\n",
    "    100\n",
    "\"\"\"\n"
   ]
  },
  {
   "cell_type": "code",
   "execution_count": null,
   "metadata": {},
   "outputs": [],
   "source": [
    "import modin.pandas as pd \n",
    "import numpy as np"
   ]
  },
  {
   "cell_type": "code",
   "execution_count": null,
   "metadata": {},
   "outputs": [],
   "source": [
    "frame_data = np.random.randint(0, 100, size=(2**10, 2**8))\n",
    "df = pd.DataFrame(frame_data)"
   ]
  },
  {
   "cell_type": "code",
   "execution_count": null,
   "metadata": {},
   "outputs": [],
   "source": [
    "df.shape"
   ]
  },
  {
   "cell_type": "code",
   "execution_count": null,
   "metadata": {},
   "outputs": [],
   "source": [
    "df.head()"
   ]
  },
  {
   "cell_type": "code",
   "execution_count": null,
   "metadata": {},
   "outputs": [],
   "source": []
  },
  {
   "cell_type": "code",
   "execution_count": null,
   "metadata": {},
   "outputs": [],
   "source": [
    "pd.read_gbq(sql, dialect='standard')"
   ]
  },
  {
   "cell_type": "code",
   "execution_count": null,
   "metadata": {},
   "outputs": [],
   "source": [
    "\n",
    "# Run a Standard SQL query using the environment's default project\n",
    "df = pandas.read_gbq(sql, dialect='standard')"
   ]
  },
  {
   "cell_type": "markdown",
   "metadata": {},
   "source": [
    "## Performance text with google-cloud-bigquery"
   ]
  },
  {
   "cell_type": "code",
   "execution_count": null,
   "metadata": {},
   "outputs": [],
   "source": [
    "from google.cloud import bigquery\n",
    "\n",
    "client = bigquery.Client() \n",
    "sql = \"\"\"\n",
    "  SELECT\n",
    "    timestamp,\n",
    "    catchment,\n",
    "    asn,\n",
    "    src_net,\n",
    "    origin,\n",
    "    bgp,\n",
    "    id,\n",
    "    rtt\n",
    "  FROM\n",
    "    `vp-measurements-testbed.datasetTestbed.measurements`+\n",
    "  WHERE\n",
    "    catchment IN ('br-gru-anycast01')\n",
    "  ORDER BY\n",
    "    timestamp ASC\n",
    "  LIMIT\n",
    "    500000\n",
    "\"\"\"\n"
   ]
  },
  {
   "cell_type": "code",
   "execution_count": null,
   "metadata": {},
   "outputs": [],
   "source": [
    "\n",
    "# Run a Standard SQL query using the environment's default project\n",
    "df = client.query(sql).to_dataframe()\n"
   ]
  },
  {
   "cell_type": "code",
   "execution_count": null,
   "metadata": {},
   "outputs": [],
   "source": [
    "df.shape"
   ]
  },
  {
   "cell_type": "code",
   "execution_count": null,
   "metadata": {},
   "outputs": [],
   "source": [
    "df.head()"
   ]
  },
  {
   "cell_type": "code",
   "execution_count": null,
   "metadata": {},
   "outputs": [],
   "source": []
  },
  {
   "cell_type": "markdown",
   "metadata": {
    "colab_type": "text",
    "id": "xrQHTb-i0Kyq"
   },
   "source": [
    "### First look at data: (timestamp, catchment=brazil, asn, src_net, origin, bgp, id, rtt)\n"
   ]
  },
  {
   "cell_type": "code",
   "execution_count": null,
   "metadata": {
    "colab": {},
    "colab_type": "code",
    "id": "cFMOWk-xPjds"
   },
   "outputs": [],
   "source": [
    "# Executes BigQuery QUERY\n",
    "QUERY = \"\"\"\n",
    "SELECT\n",
    "  timestamp,\n",
    "  catchment,\n",
    "  asn,\n",
    "  src_net,\n",
    "  origin,\n",
    "  bgp,\n",
    "  id,\n",
    "  rtt\n",
    "FROM\n",
    "  `vp-measurements-testbed.datasetTestbed.measurements`\n",
    "WHERE\n",
    "  catchment IN ('br-gru-anycast01')\n",
    "ORDER BY\n",
    "  timestamp ASC\n",
    "LIMIT\n",
    " 100000\n",
    " \"\"\""
   ]
  },
  {
   "cell_type": "code",
   "execution_count": null,
   "metadata": {},
   "outputs": [],
   "source": []
  },
  {
   "cell_type": "code",
   "execution_count": null,
   "metadata": {},
   "outputs": [],
   "source": [
    "# Load Query --> Dataframe\n",
    "query_job = client.query(QUERY)\n",
    "df = query_job.to_dataframe()"
   ]
  },
  {
   "cell_type": "code",
   "execution_count": null,
   "metadata": {
    "colab": {
     "base_uri": "https://localhost:8080/",
     "height": 1000
    },
    "colab_type": "code",
    "id": "r1HjN2sisvgu",
    "outputId": "d5c49729-4694-4aeb-fac9-7c8ba182414c",
    "scrolled": true
   },
   "outputs": [],
   "source": [
    "df.head()"
   ]
  },
  {
   "cell_type": "code",
   "execution_count": null,
   "metadata": {},
   "outputs": [],
   "source": [
    "len (df)"
   ]
  },
  {
   "cell_type": "markdown",
   "metadata": {
    "colab_type": "text",
    "id": "X7f193crt5tC"
   },
   "source": [
    "### Consider just ONE DAY,  same ORIGIN, same CATCHMENT (timestamp=\"2019-07-24\", catchment=Brazil and origin-Brazil)\n"
   ]
  },
  {
   "cell_type": "code",
   "execution_count": null,
   "metadata": {
    "colab": {},
    "colab_type": "code",
    "id": "q28fOeYfuzL-"
   },
   "outputs": [],
   "source": [
    "QUERY = \"\"\"\n",
    "SELECT\n",
    "  timestamp,\n",
    "  catchment,\n",
    "  asn,\n",
    "  src_net,\n",
    "  origin,\n",
    "  bgp,\n",
    "  id,\n",
    "  rtt\n",
    "FROM\n",
    "  `vp-measurements-testbed.datasetTestbed.measurements`\n",
    "WHERE\n",
    "  catchment IN ('br-gru-anycast01') \n",
    "  AND ( DATE (timestamp) ='2019-07-24' )\n",
    "\n",
    "#GROUP BY\n",
    "# catchment,\n",
    "\n",
    "ORDER BY\n",
    "  timestamp ASC\n",
    "\n",
    "LIMIT\n",
    " 1000;\n",
    "\"\"\""
   ]
  },
  {
   "cell_type": "code",
   "execution_count": null,
   "metadata": {},
   "outputs": [],
   "source": [
    "# Load Query --> Dataframe\n",
    "query_job = client.query(QUERY)\n",
    "df = query_job.to_dataframe()"
   ]
  },
  {
   "cell_type": "code",
   "execution_count": null,
   "metadata": {
    "colab": {},
    "colab_type": "code",
    "id": "4vimjsZCvOV9"
   },
   "outputs": [],
   "source": [
    "#%load_ext google.colab.data_table\n"
   ]
  },
  {
   "cell_type": "code",
   "execution_count": null,
   "metadata": {
    "colab": {
     "base_uri": "https://localhost:8080/",
     "height": 1000
    },
    "colab_type": "code",
    "id": "IcVAOnLS2AGP",
    "outputId": "42b3bdf8-90bd-477f-9e53-a065791c4c1f"
   },
   "outputs": [],
   "source": [
    "df"
   ]
  },
  {
   "cell_type": "markdown",
   "metadata": {
    "colab_type": "text",
    "id": "ZtvuY7RIt-Nj"
   },
   "source": [
    "\n",
    "### rtt( min, max, avg, mean) in each asn - ASN x RTT\n",
    "\n"
   ]
  },
  {
   "cell_type": "code",
   "execution_count": null,
   "metadata": {
    "colab": {},
    "colab_type": "code",
    "id": "LTBPyPB6uyjq"
   },
   "outputs": [],
   "source": [
    "#%%bigquery --project vp-measurements-testbed df\n",
    "QUERY = \"\"\"\n",
    "SELECT\n",
    "  timestamp,\n",
    "  catchment,\n",
    "  asn,\n",
    "  src_net,\n",
    "  origin,\n",
    "  bgp,\n",
    "  id,\n",
    "  rtt\n",
    "FROM\n",
    "  `vp-measurements-testbed.datasetTestbed.measurements`\n",
    "WHERE\n",
    "  #catchment IN ('br-gru-anycast01') \n",
    "  #AND ( DATE (timestamp) ='2019-07-24' )\n",
    "    ( DATE (timestamp) ='2019-07-24' )\n",
    "LIMIT 600000\n",
    "\"\"\""
   ]
  },
  {
   "cell_type": "code",
   "execution_count": null,
   "metadata": {},
   "outputs": [],
   "source": [
    "# Load Query --> Dataframe\n",
    "query_job = client.query(QUERY)\n",
    "df = query_job.to_dataframe()"
   ]
  },
  {
   "cell_type": "code",
   "execution_count": null,
   "metadata": {
    "colab": {
     "base_uri": "https://localhost:8080/",
     "height": 204
    },
    "colab_type": "code",
    "id": "E9HIYQWvG8HJ",
    "outputId": "bbed598d-27f3-4a1a-f903-bc7cf4080dc4"
   },
   "outputs": [],
   "source": [
    "df.head()\n"
   ]
  },
  {
   "cell_type": "code",
   "execution_count": null,
   "metadata": {
    "colab": {
     "base_uri": "https://localhost:8080/",
     "height": 34
    },
    "colab_type": "code",
    "id": "KMnatPV2KY0J",
    "outputId": "3331722e-8c25-4e47-ca93-e76c2e36407b"
   },
   "outputs": [],
   "source": [
    "len(df)"
   ]
  },
  {
   "cell_type": "markdown",
   "metadata": {
    "colab_type": "text",
    "id": "O4vrtIpbs0T_"
   },
   "source": [
    "# Hiden Things\n",
    "\n",
    "\n",
    "\n"
   ]
  },
  {
   "cell_type": "code",
   "execution_count": null,
   "metadata": {
    "colab": {},
    "colab_type": "code",
    "id": "HosbY5qrXNck"
   },
   "outputs": [],
   "source": [
    "df"
   ]
  },
  {
   "cell_type": "markdown",
   "metadata": {
    "colab_type": "text",
    "id": "f9_PdFRZqptM"
   },
   "source": [
    "### Graphs\n"
   ]
  },
  {
   "cell_type": "code",
   "execution_count": null,
   "metadata": {
    "colab": {},
    "colab_type": "code",
    "id": "KD5puXy_fi9D"
   },
   "outputs": [],
   "source": [
    "import altair as alt\n",
    "alt.Chart(df).mark_line().encode(\n",
    "  x='t0_timestamp',\n",
    "  y='t0_qt',\n",
    "  color='catchment'\n",
    ").interactive(bind_y=True)"
   ]
  },
  {
   "cell_type": "code",
   "execution_count": null,
   "metadata": {
    "colab": {
     "base_uri": "https://localhost:8080/",
     "height": 361
    },
    "colab_type": "code",
    "id": "QDWCLK0HMpvV",
    "outputId": "841b8948-2014-4173-ad5d-bca961bea780"
   },
   "outputs": [],
   "source": [
    "%%bigquery --project vp-measurements-testbed df\n",
    "SELECT\n",
    "  timestamp as t0\n",
    "  FORMAT_TIMESTAMP('%Y%m%d', timestamp) AS t0_date,\n",
    "  FORMAT_TIMESTAMP('%H', timestamp) AS t0_hour,\n",
    "  FORMAT_TIMESTAMP('%H', timestamp) AS t0_min,\n",
    "  catchment,\n",
    "  COUNT(*) AS t0_qt\n",
    "FROM\n",
    "  `vp-measurements-testbed.datasetTestbed.measurements`\n",
    "WHERE\n",
    "  catchment IN ('jp-hnd-anycast01')\n",
    "GROUP BY\n",
    "  t0,\n",
    "  t0_date,\n",
    "  t0_hour,\n",
    "  t0_min,\n",
    "  catchment\n",
    "ORDER BY\n",
    " t0_date,t0_hour,t0_min ASC\n",
    "LIMIT 100"
   ]
  }
 ],
 "metadata": {
  "accelerator": "GPU",
  "colab": {
   "collapsed_sections": [
    "xrQHTb-i0Kyq",
    "O4vrtIpbs0T_"
   ],
   "name": "BQ_RTT_Catch_ASN.ipynb",
   "provenance": [],
   "version": "0.3.2"
  },
  "kernelspec": {
   "display_name": "Python 3",
   "language": "python",
   "name": "python3"
  },
  "language_info": {
   "codemirror_mode": {
    "name": "ipython",
    "version": 3
   },
   "file_extension": ".py",
   "mimetype": "text/x-python",
   "name": "python",
   "nbconvert_exporter": "python",
   "pygments_lexer": "ipython3",
   "version": "3.5.6"
  }
 },
 "nbformat": 4,
 "nbformat_minor": 1
}
